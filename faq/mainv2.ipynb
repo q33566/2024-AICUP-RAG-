{
 "cells": [
  {
   "cell_type": "code",
   "execution_count": 1,
   "id": "2cdd253db75e685a",
   "metadata": {
    "ExecuteTime": {
     "end_time": "2024-11-05T09:47:37.279838Z",
     "start_time": "2024-11-05T09:47:35.767165Z"
    }
   },
   "outputs": [],
   "source": [
    "from retrievals import FAQDataLoader, DataPreprocessor, BM25Retrieval, EmbeddingRetrieval"
   ]
  },
  {
   "cell_type": "code",
   "execution_count": 2,
   "id": "2c4f7d352d9981e5",
   "metadata": {
    "ExecuteTime": {
     "end_time": "2024-11-05T09:47:37.284555Z",
     "start_time": "2024-11-05T09:47:37.282600Z"
    }
   },
   "outputs": [],
   "source": [
    "ckip_word_segmenter_model = 'albert-tiny'\n",
    "# embedding_model = 'text-embedding-3-small'"
   ]
  },
  {
   "cell_type": "code",
   "execution_count": 3,
   "id": "206f7abe5082b99c",
   "metadata": {
    "ExecuteTime": {
     "end_time": "2024-11-05T09:47:40.615459Z",
     "start_time": "2024-11-05T09:47:37.373936Z"
    }
   },
   "outputs": [],
   "source": [
    "faq_dataLoader = FAQDataLoader(\n",
    "    question_path='/home/xunhaoz/PycharmProjects/RAGAndLLMInFinance/questions_preliminary.json',\n",
    "    answer_path='../contest_dataset/contest_dataset/dataset/preliminary/ground_truths_example.json',\n",
    "    source_path='../contest_dataset/contest_dataset/reference/faq/pid_map_content.json'\n",
    ")\n",
    "data_preprocessor = DataPreprocessor(model=ckip_word_segmenter_model)\n",
    "# retrieval = EmbeddingRetrieval(model=embedding_model)\n",
    "retrieval = BM25Retrieval()"
   ]
  },
  {
   "cell_type": "code",
   "execution_count": 4,
   "id": "896c622acfcb1e2a",
   "metadata": {
    "ExecuteTime": {
     "end_time": "2024-11-05T09:47:40.629698Z",
     "start_time": "2024-11-05T09:47:40.619381Z"
    }
   },
   "outputs": [],
   "source": [
    "question = faq_dataLoader.get_question()\n",
    "# answer = faq_dataLoader.get_answer()\n",
    "source = faq_dataLoader.get_source()"
   ]
  },
  {
   "cell_type": "code",
   "execution_count": 5,
   "id": "c0ebe9cf2f2da170",
   "metadata": {
    "ExecuteTime": {
     "end_time": "2024-11-05T09:47:53.694135Z",
     "start_time": "2024-11-05T09:47:53.270155Z"
    }
   },
   "outputs": [
    {
     "name": "stderr",
     "output_type": "stream",
     "text": [
      "Tokenization: 100%|██████████| 300/300 [00:00<00:00, 14971.81it/s]\n",
      "Inference:   0%|          | 0/2 [00:00<?, ?it/s]"
     ]
    },
    {
     "name": "stderr",
     "output_type": "stream",
     "text": [
      "Inference: 100%|██████████| 2/2 [00:00<00:00, 10.67it/s]\n",
      "Tokenization: 100%|██████████| 300/300 [00:00<00:00, 53206.95it/s]\n",
      "Inference: 100%|██████████| 2/2 [00:00<00:00, 26.27it/s]\n",
      "Tokenization: 100%|██████████| 300/300 [00:00<00:00, 38015.99it/s]\n",
      "Inference: 100%|██████████| 2/2 [00:00<00:00, 32.32it/s]\n",
      "Tokenization: 100%|██████████| 617/617 [00:00<00:00, 2539.81it/s]\n",
      "Inference: 100%|██████████| 3/3 [00:01<00:00,  1.79it/s]\n",
      "Tokenization: 100%|██████████| 617/617 [00:00<00:00, 8781.16it/s]\n",
      "Inference: 100%|██████████| 16/16 [00:09<00:00,  1.61it/s]\n",
      "Tokenization: 100%|██████████| 617/617 [00:00<00:00, 6424.49it/s]\n",
      "Inference: 100%|██████████| 3/3 [00:01<00:00,  1.75it/s]\n"
     ]
    }
   ],
   "source": [
    "question['clean_ws'] = data_preprocessor.preprocess(question['query'])\n",
    "source['clean_ws'] = data_preprocessor.preprocess(source['content'])"
   ]
  },
  {
   "cell_type": "code",
   "execution_count": 6,
   "id": "9d33467819df0387",
   "metadata": {},
   "outputs": [],
   "source": [
    "question = retrieval.retrieval(question, source)"
   ]
  },
  {
   "cell_type": "code",
   "execution_count": 7,
   "id": "1b961141",
   "metadata": {},
   "outputs": [],
   "source": [
    "question[['retrieve']].to_csv('../faq_albert.csv')"
   ]
  },
  {
   "cell_type": "code",
   "execution_count": 8,
   "id": "ca7039fea3a29faa",
   "metadata": {},
   "outputs": [
    {
     "ename": "NameError",
     "evalue": "name 'answer' is not defined",
     "output_type": "error",
     "traceback": [
      "\u001b[0;31m---------------------------------------------------------------------------\u001b[0m",
      "\u001b[0;31mNameError\u001b[0m                                 Traceback (most recent call last)",
      "Cell \u001b[0;32mIn[8], line 1\u001b[0m\n\u001b[0;32m----> 1\u001b[0m (question[\u001b[38;5;124m'\u001b[39m\u001b[38;5;124mretrieve\u001b[39m\u001b[38;5;124m'\u001b[39m] \u001b[38;5;241m==\u001b[39m \u001b[43manswer\u001b[49m[\u001b[38;5;124m'\u001b[39m\u001b[38;5;124mretrieve\u001b[39m\u001b[38;5;124m'\u001b[39m])\u001b[38;5;241m.\u001b[39mmean()\n",
      "\u001b[0;31mNameError\u001b[0m: name 'answer' is not defined"
     ]
    }
   ],
   "source": [
    "(question['retrieve'] == answer['retrieve']).mean()"
   ]
  },
  {
   "cell_type": "code",
   "execution_count": null,
   "id": "6865ef11d9075db4",
   "metadata": {},
   "outputs": [],
   "source": [
    "question['true retrieve'] = answer['retrieve']\n",
    "question[~(question['retrieve'] == answer['retrieve'])][['query', 'retrieve', 'true retrieve']].to_csv(f'{ckip_word_segmenter_model}-error.csv')"
   ]
  },
  {
   "cell_type": "code",
   "execution_count": null,
   "id": "7d1fbae0166b1b94",
   "metadata": {
    "ExecuteTime": {
     "end_time": "2024-10-14T20:41:09.624470Z",
     "start_time": "2024-10-14T20:41:05.688430Z"
    }
   },
   "outputs": [],
   "source": [
    "from ckip_transformers.nlp import CkipWordSegmenter, CkipPosTagger, CkipNerChunker\n",
    "\n",
    "model = 'albert-tiny'\n",
    "\n",
    "ws_driver = CkipWordSegmenter(model=model, device=0)\n",
    "pos_driver = CkipPosTagger(model=model, device=0)\n",
    "ner_driver = CkipNerChunker(model=model, device=0)"
   ]
  },
  {
   "cell_type": "code",
   "execution_count": 33,
   "id": "1425b2d2fdb7fea4",
   "metadata": {
    "ExecuteTime": {
     "end_time": "2024-10-14T21:31:15.477682Z",
     "start_time": "2024-10-14T21:31:15.460259Z"
    }
   },
   "outputs": [
    {
     "name": "stderr",
     "output_type": "stream",
     "text": [
      "Tokenization: 100%|██████████| 1/1 [00:00<00:00, 17623.13it/s]\n",
      "Inference: 100%|██████████| 1/1 [00:00<00:00, 164.19it/s]\n",
      "Tokenization: 100%|██████████| 1/1 [00:00<00:00, 29330.80it/s]\n",
      "Inference: 100%|██████████| 1/1 [00:00<00:00, 263.79it/s]\n"
     ]
    },
    {
     "data": {
      "text/plain": [
       "[['資產', '負債', '表']]"
      ]
     },
     "execution_count": 33,
     "metadata": {},
     "output_type": "execute_result"
    }
   ],
   "source": [
    "ner_driver([\"資產負債表\"])\n",
    "ws_driver([\"資產負債表\"])"
   ]
  },
  {
   "cell_type": "code",
   "execution_count": 29,
   "id": "18c75635d795733",
   "metadata": {
    "ExecuteTime": {
     "end_time": "2024-10-14T21:11:44.548070Z",
     "start_time": "2024-10-14T21:11:44.522885Z"
    }
   },
   "outputs": [
    {
     "name": "stderr",
     "output_type": "stream",
     "text": [
      "Tokenization: 100%|██████████| 1/1 [00:00<00:00, 15709.00it/s]\n",
      "Inference: 100%|██████████| 1/1 [00:00<00:00, 87.94it/s]\n",
      "Tokenization: 100%|██████████| 1/1 [00:00<00:00, 23301.69it/s]\n",
      "Inference: 100%|██████████| 1/1 [00:00<00:00, 323.14it/s]\n",
      "Tokenization: 100%|██████████| 1/1 [00:00<00:00, 27060.03it/s]\n",
      "Inference: 100%|██████████| 1/1 [00:00<00:00, 290.02it/s]"
     ]
    },
    {
     "name": "stdout",
     "output_type": "stream",
     "text": [
      "金融卡(Na) 申請(VF) 補換(VC) 發(VD) 卡(Na) "
     ]
    },
    {
     "name": "stderr",
     "output_type": "stream",
     "text": [
      "\n"
     ]
    }
   ],
   "source": [
    "for w, p in zip(ws_driver([\"2022年金融卡不見後應該怎麼申請重新補換發卡？\"]), pos_driver(ws_driver([\"2022年金融卡不見後應該怎麼申請重新補換發卡？\"]))):\n",
    "    for ww, pp in zip(w, p):\n",
    "        if pp in ['Na', 'VF', 'VC', 'VD']:\n",
    "            print(f\"{ww}({pp})\", end=' ')"
   ]
  },
  {
   "cell_type": "code",
   "execution_count": null,
   "id": "919d9d43505a5329",
   "metadata": {},
   "outputs": [],
   "source": []
  }
 ],
 "metadata": {
  "kernelspec": {
   "display_name": ".venv",
   "language": "python",
   "name": "python3"
  },
  "language_info": {
   "codemirror_mode": {
    "name": "ipython",
    "version": 3
   },
   "file_extension": ".py",
   "mimetype": "text/x-python",
   "name": "python",
   "nbconvert_exporter": "python",
   "pygments_lexer": "ipython3",
   "version": "3.11.10"
  }
 },
 "nbformat": 4,
 "nbformat_minor": 5
}
