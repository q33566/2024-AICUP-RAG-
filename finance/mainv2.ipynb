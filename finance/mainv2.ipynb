{
 "cells": [
  {
   "cell_type": "code",
   "execution_count": 1,
   "id": "2cdd253db75e685a",
   "metadata": {
    "ExecuteTime": {
     "end_time": "2024-11-08T18:59:33.539144Z",
     "start_time": "2024-11-08T18:59:32.087851Z"
    }
   },
   "outputs": [
    {
     "name": "stdout",
     "output_type": "stream",
     "text": [
      "INFO: Pandarallel will run on 14 workers.\n",
      "INFO: Pandarallel will use Memory file system to transfer data between the main process and workers.\n"
     ]
    }
   ],
   "source": [
    "from retrievals import FinanceDataLoader, DataPreprocessor, BM25Retrieval, EmbeddingRetrieval"
   ]
  },
  {
   "cell_type": "code",
   "execution_count": 2,
   "id": "206f7abe5082b99c",
   "metadata": {
    "ExecuteTime": {
     "end_time": "2024-11-08T19:00:10.737919Z",
     "start_time": "2024-11-08T18:59:33.543726Z"
    }
   },
   "outputs": [
    {
     "name": "stderr",
     "output_type": "stream",
     "text": [
      "Processing PDFs: 100%|██████████| 1035/1035 [00:35<00:00, 29.00it/s]\n"
     ]
    }
   ],
   "source": [
    "finance_dataLoader = FinanceDataLoader(\n",
    "    question_path='/home/xunhaoz/PycharmProjects/RAGAndLLMInFinance/questions_preliminary.json',\n",
    "    answer_path='../contest_dataset/contest_dataset/dataset/preliminary/ground_truths_example.json',\n",
    "    source_path='../contest_dataset/contest_dataset/reference/finance',\n",
    "    chunk_size=256,\n",
    "    chunk_overlap=16\n",
    ")\n",
    "question = finance_dataLoader.get_question()\n",
    "answer = finance_dataLoader.get_answer()\n",
    "source = finance_dataLoader.get_source()"
   ]
  },
  {
   "cell_type": "code",
   "execution_count": 3,
   "id": "896c622acfcb1e2a",
   "metadata": {
    "ExecuteTime": {
     "end_time": "2024-11-08T19:00:13.882705Z",
     "start_time": "2024-11-08T19:00:10.821580Z"
    }
   },
   "outputs": [],
   "source": [
    "ckip_word_segmenter_model = 'bert-base'\n",
    "data_preprocessor = DataPreprocessor(model=ckip_word_segmenter_model)\n",
    "retrieval = BM25Retrieval()"
   ]
  },
  {
   "cell_type": "code",
   "execution_count": 4,
   "id": "c0ebe9cf2f2da170",
   "metadata": {
    "ExecuteTime": {
     "end_time": "2024-11-08T19:28:32.076077Z",
     "start_time": "2024-11-08T19:00:13.888543Z"
    }
   },
   "outputs": [
    {
     "name": "stderr",
     "output_type": "stream",
     "text": [
      "Tokenization: 100%|██████████| 1035/1035 [00:03<00:00, 343.74it/s]\n",
      "Inference: 100%|██████████| 34/34 [02:34<00:00,  4.55s/it]\n",
      "Tokenization: 100%|██████████| 1035/1035 [00:01<00:00, 658.93it/s]\n",
      "Inference: 100%|██████████| 292/292 [22:09<00:00,  4.55s/it]\n",
      "Tokenization: 100%|██████████| 1035/1035 [00:02<00:00, 356.41it/s]\n",
      "Inference: 100%|██████████| 34/34 [02:35<00:00,  4.58s/it]\n",
      "Tokenization: 100%|██████████| 300/300 [00:00<00:00, 17270.46it/s]\n",
      "Inference: 100%|██████████| 2/2 [00:01<00:00,  1.87it/s]\n",
      "Tokenization: 100%|██████████| 300/300 [00:00<00:00, 68800.44it/s]\n",
      "Inference: 100%|██████████| 3/3 [00:01<00:00,  1.75it/s]\n",
      "Tokenization: 100%|██████████| 300/300 [00:00<00:00, 49971.85it/s]\n",
      "Inference: 100%|██████████| 2/2 [00:01<00:00,  1.87it/s]\n"
     ]
    }
   ],
   "source": [
    "source['clean_ws'] = data_preprocessor.preprocess(source['content'])\n",
    "question['clean_ws'] = data_preprocessor.preprocess(question['query'])"
   ]
  },
  {
   "cell_type": "code",
   "execution_count": null,
   "id": "9d33467819df0387",
   "metadata": {
    "ExecuteTime": {
     "end_time": "2024-11-08T19:28:32.130123Z",
     "start_time": "2024-11-08T19:28:32.082374Z"
    }
   },
   "outputs": [],
   "source": [
    "question = retrieval.retrieval(question, source)"
   ]
  },
  {
   "cell_type": "code",
   "execution_count": 9,
   "id": "d63138d1",
   "metadata": {},
   "outputs": [],
   "source": [
    "question[['retrieve']].to_csv('../finance.csv')"
   ]
  },
  {
   "cell_type": "code",
   "execution_count": 6,
   "id": "ca7039fea3a29faa",
   "metadata": {
    "ExecuteTime": {
     "end_time": "2024-11-08T19:28:32.139372Z",
     "start_time": "2024-11-08T19:28:32.136133Z"
    }
   },
   "outputs": [
    {
     "data": {
      "text/plain": [
       "0.72"
      ]
     },
     "execution_count": 6,
     "metadata": {},
     "output_type": "execute_result"
    }
   ],
   "source": [
    "(question['retrieve'] == answer['retrieve']).mean()"
   ]
  },
  {
   "cell_type": "code",
   "execution_count": 7,
   "id": "6865ef11d9075db4",
   "metadata": {
    "ExecuteTime": {
     "end_time": "2024-11-08T19:28:32.183349Z",
     "start_time": "2024-11-08T19:28:32.178733Z"
    }
   },
   "outputs": [],
   "source": [
    "question['true retrieve'] = answer[~(question['retrieve'] == answer['retrieve'])]['retrieve']\n",
    "question[~(question['retrieve'] == answer['retrieve'])][[\n",
    "    'source', 'retrieve', 'true retrieve', 'query', 'clean_ws']].to_csv(f'{ckip_word_segmenter_model}-error.csv')"
   ]
  },
  {
   "cell_type": "code",
   "execution_count": 8,
   "id": "a8ec2b51eb43c03",
   "metadata": {
    "ExecuteTime": {
     "end_time": "2024-11-08T19:28:32.231929Z",
     "start_time": "2024-11-08T19:28:32.225167Z"
    }
   },
   "outputs": [
    {
     "data": {
      "text/html": [
       "<div>\n",
       "<style scoped>\n",
       "    .dataframe tbody tr th:only-of-type {\n",
       "        vertical-align: middle;\n",
       "    }\n",
       "\n",
       "    .dataframe tbody tr th {\n",
       "        vertical-align: top;\n",
       "    }\n",
       "\n",
       "    .dataframe thead th {\n",
       "        text-align: right;\n",
       "    }\n",
       "</style>\n",
       "<table border=\"1\" class=\"dataframe\">\n",
       "  <thead>\n",
       "    <tr style=\"text-align: right;\">\n",
       "      <th></th>\n",
       "      <th>content</th>\n",
       "      <th>clean_ws</th>\n",
       "    </tr>\n",
       "    <tr>\n",
       "      <th>pid</th>\n",
       "      <th></th>\n",
       "      <th></th>\n",
       "    </tr>\n",
       "  </thead>\n",
       "  <tbody>\n",
       "    <tr>\n",
       "      <th>928</th>\n",
       "      <td>瑞昱半導體股份有限公司及子公司\\n合併資產負債表\\n民國111年9月30日及民國110年12...</td>\n",
       "      <td>[瑞昱, 半導體, 股份, 有限, 公司, 子公司, 合併, 資產, 負債表, 民國, 11...</td>\n",
       "    </tr>\n",
       "    <tr>\n",
       "      <th>607</th>\n",
       "      <td>擔任總經理，並可操控其財務、營運及人事，是以本公\\n司對該上述子公司具有實質控制能力，而將其...</td>\n",
       "      <td>[擔任, 總經理, 操控, 財務, 營運, 人事, 公\\n司, 上述, 子公司, 具有, 實...</td>\n",
       "    </tr>\n",
       "    <tr>\n",
       "      <th>210</th>\n",
       "      <td>五、重大會計判斷、估計及假設不確定性之主要來源\\n合併公司編製本合併財務報表時，管理階層已運...</td>\n",
       "      <td>[重大, 會計, 判斷, 估計, 假設, 不確定性, 來源, 合併, 公司, 編製, 合併,...</td>\n",
       "    </tr>\n",
       "    <tr>\n",
       "      <th>568</th>\n",
       "      <td>中華電信公司對ST-2SatelliteVenturesPte.,Ltd.於資產負\\n債表日...</td>\n",
       "      <td>[中華, 電信, 公司, 資產, 負\\n債表, 租賃, 負債, 餘額, 3月, 31日, 1...</td>\n",
       "    </tr>\n",
       "    <tr>\n",
       "      <th>192</th>\n",
       "      <td>4.BANDSPEED,LLC於西德州法院控告本公司產品侵害其專利權。該案件目\\n前正依相關...</td>\n",
       "      <td>[德州, 法院, 控告, 公司, 產品, 侵害, 專利權, 案件, 目\\n, 相關, 程序,...</td>\n",
       "    </tr>\n",
       "    <tr>\n",
       "      <th>...</th>\n",
       "      <td>...</td>\n",
       "      <td>...</td>\n",
       "    </tr>\n",
       "    <tr>\n",
       "      <th>517</th>\n",
       "      <td>統一企業股份有限公司及子公司\\n合併資產負債表\\n民國111年9月30日及民國110年12月...</td>\n",
       "      <td>[統一, 企業, 股份, 有限, 公司, 子公司, 合併, 資產, 負債表, 民國, 111...</td>\n",
       "    </tr>\n",
       "    <tr>\n",
       "      <th>299</th>\n",
       "      <td>三十五、部門資訊\\n提供給主要營運決策者用以分配資源及評量部門績效之資訊，由\\n於實際資源分...</td>\n",
       "      <td>[三十五, 部門, 資訊, 提供給, 營運, 決策, 分配, 資源, 評量, 部門, 績效,...</td>\n",
       "    </tr>\n",
       "    <tr>\n",
       "      <th>616</th>\n",
       "      <td>聯發科技股份有限公司及子公司合併財務報表附註(續)\\n(金額除另予註明外，均以新台幣仟元為單...</td>\n",
       "      <td>[聯發, 科技, 股份, 有限, 公司, 子公司, 合併, 財務, 報表, 附註, 金額, ...</td>\n",
       "    </tr>\n",
       "    <tr>\n",
       "      <th>643</th>\n",
       "      <td>7.與關係人進、銷貨之金額達新臺幣1億元或實收資本額20%以\\n上：附表五。\\n8.應收關係...</td>\n",
       "      <td>[關係人, 銷貨, 金額, 新臺幣, 1億, 實收, 資本額, 20%, 附表, 關係人, ...</td>\n",
       "    </tr>\n",
       "    <tr>\n",
       "      <th>259</th>\n",
       "      <td>註1：因組織架構調整，本公司於民國111年第四季以股份交換方式出售\\n持股100%之Lead...</td>\n",
       "      <td>[組織, 架構, 調整, 公司, 民國, 111年, 第四, 股份, 交換, 方式, 出售,...</td>\n",
       "    </tr>\n",
       "  </tbody>\n",
       "</table>\n",
       "<p>1035 rows × 2 columns</p>\n",
       "</div>"
      ],
      "text/plain": [
       "                                               content  \\\n",
       "pid                                                      \n",
       "928  瑞昱半導體股份有限公司及子公司\\n合併資產負債表\\n民國111年9月30日及民國110年12...   \n",
       "607  擔任總經理，並可操控其財務、營運及人事，是以本公\\n司對該上述子公司具有實質控制能力，而將其...   \n",
       "210  五、重大會計判斷、估計及假設不確定性之主要來源\\n合併公司編製本合併財務報表時，管理階層已運...   \n",
       "568  中華電信公司對ST-2SatelliteVenturesPte.,Ltd.於資產負\\n債表日...   \n",
       "192  4.BANDSPEED,LLC於西德州法院控告本公司產品侵害其專利權。該案件目\\n前正依相關...   \n",
       "..                                                 ...   \n",
       "517  統一企業股份有限公司及子公司\\n合併資產負債表\\n民國111年9月30日及民國110年12月...   \n",
       "299  三十五、部門資訊\\n提供給主要營運決策者用以分配資源及評量部門績效之資訊，由\\n於實際資源分...   \n",
       "616  聯發科技股份有限公司及子公司合併財務報表附註(續)\\n(金額除另予註明外，均以新台幣仟元為單...   \n",
       "643  7.與關係人進、銷貨之金額達新臺幣1億元或實收資本額20%以\\n上：附表五。\\n8.應收關係...   \n",
       "259  註1：因組織架構調整，本公司於民國111年第四季以股份交換方式出售\\n持股100%之Lead...   \n",
       "\n",
       "                                              clean_ws  \n",
       "pid                                                     \n",
       "928  [瑞昱, 半導體, 股份, 有限, 公司, 子公司, 合併, 資產, 負債表, 民國, 11...  \n",
       "607  [擔任, 總經理, 操控, 財務, 營運, 人事, 公\\n司, 上述, 子公司, 具有, 實...  \n",
       "210  [重大, 會計, 判斷, 估計, 假設, 不確定性, 來源, 合併, 公司, 編製, 合併,...  \n",
       "568  [中華, 電信, 公司, 資產, 負\\n債表, 租賃, 負債, 餘額, 3月, 31日, 1...  \n",
       "192  [德州, 法院, 控告, 公司, 產品, 侵害, 專利權, 案件, 目\\n, 相關, 程序,...  \n",
       "..                                                 ...  \n",
       "517  [統一, 企業, 股份, 有限, 公司, 子公司, 合併, 資產, 負債表, 民國, 111...  \n",
       "299  [三十五, 部門, 資訊, 提供給, 營運, 決策, 分配, 資源, 評量, 部門, 績效,...  \n",
       "616  [聯發, 科技, 股份, 有限, 公司, 子公司, 合併, 財務, 報表, 附註, 金額, ...  \n",
       "643  [關係人, 銷貨, 金額, 新臺幣, 1億, 實收, 資本額, 20%, 附表, 關係人, ...  \n",
       "259  [組織, 架構, 調整, 公司, 民國, 111年, 第四, 股份, 交換, 方式, 出售,...  \n",
       "\n",
       "[1035 rows x 2 columns]"
      ]
     },
     "execution_count": 8,
     "metadata": {},
     "output_type": "execute_result"
    }
   ],
   "source": [
    "source"
   ]
  },
  {
   "cell_type": "code",
   "execution_count": 9,
   "id": "8c2a30d841089041",
   "metadata": {
    "ExecuteTime": {
     "end_time": "2024-11-08T19:28:32.303252Z",
     "start_time": "2024-11-08T19:28:32.296370Z"
    }
   },
   "outputs": [
    {
     "data": {
      "text/html": [
       "<div>\n",
       "<style scoped>\n",
       "    .dataframe tbody tr th:only-of-type {\n",
       "        vertical-align: middle;\n",
       "    }\n",
       "\n",
       "    .dataframe tbody tr th {\n",
       "        vertical-align: top;\n",
       "    }\n",
       "\n",
       "    .dataframe thead th {\n",
       "        text-align: right;\n",
       "    }\n",
       "</style>\n",
       "<table border=\"1\" class=\"dataframe\">\n",
       "  <thead>\n",
       "    <tr style=\"text-align: right;\">\n",
       "      <th></th>\n",
       "      <th>source</th>\n",
       "      <th>query</th>\n",
       "      <th>category</th>\n",
       "      <th>clean_ws</th>\n",
       "      <th>retrieve</th>\n",
       "      <th>true retrieve</th>\n",
       "    </tr>\n",
       "    <tr>\n",
       "      <th>qid</th>\n",
       "      <th></th>\n",
       "      <th></th>\n",
       "      <th></th>\n",
       "      <th></th>\n",
       "      <th></th>\n",
       "      <th></th>\n",
       "    </tr>\n",
       "  </thead>\n",
       "  <tbody>\n",
       "    <tr>\n",
       "      <th>51</th>\n",
       "      <td>[61, 656, 899, 653, 162]</td>\n",
       "      <td>聯電在2023年第1季的營業利益是多少？</td>\n",
       "      <td>finance</td>\n",
       "      <td>[聯電, 2023年, 第1季, 營業, 利益, 多少]</td>\n",
       "      <td>61</td>\n",
       "      <td>162.0</td>\n",
       "    </tr>\n",
       "    <tr>\n",
       "      <th>59</th>\n",
       "      <td>[639, 148, 771, 521, 264, 632, 190]</td>\n",
       "      <td>台化在2023年第1季的本期其他綜合損益總額是多少？</td>\n",
       "      <td>finance</td>\n",
       "      <td>[台化, 2023年, 第1季, 其他, 損益, 總額, 多少]</td>\n",
       "      <td>639</td>\n",
       "      <td>632.0</td>\n",
       "    </tr>\n",
       "    <tr>\n",
       "      <th>62</th>\n",
       "      <td>[89, 721, 971, 56, 1024, 591]</td>\n",
       "      <td>2022年第3季聯發科的現金及約當現金金額是多少？</td>\n",
       "      <td>finance</td>\n",
       "      <td>[2022年, 第3季, 聯發科, 現金, 現金, 金額, 多少]</td>\n",
       "      <td>56</td>\n",
       "      <td>591.0</td>\n",
       "    </tr>\n",
       "    <tr>\n",
       "      <th>66</th>\n",
       "      <td>[545, 182, 400, 396, 978, 192]</td>\n",
       "      <td>瑞昱在2022年第1季的財報中提到，BANDSPEED, LLC於哪一地區法院控告瑞昱產品侵...</td>\n",
       "      <td>finance</td>\n",
       "      <td>[瑞昱, 2022年, 第1季, 財報, 提到, 地區, 法院, 控告, 瑞昱, 產品, 侵...</td>\n",
       "      <td>396</td>\n",
       "      <td>192.0</td>\n",
       "    </tr>\n",
       "    <tr>\n",
       "      <th>68</th>\n",
       "      <td>[26, 341, 78, 1011, 942, 37, 427, 955]</td>\n",
       "      <td>請問光寶科在2023年第3季的合併資產負債表中，總資產的金額是多少？</td>\n",
       "      <td>finance</td>\n",
       "      <td>[請問, 光寶科, 2023年, 第3季, 合併, 資產, 負債表, 總資產, 金額, 多少]</td>\n",
       "      <td>37</td>\n",
       "      <td>942.0</td>\n",
       "    </tr>\n",
       "    <tr>\n",
       "      <th>70</th>\n",
       "      <td>[298, 272, 147, 490, 495]</td>\n",
       "      <td>智邦科技股份有限公司2023年第1季的綜合損益總額是多少？</td>\n",
       "      <td>finance</td>\n",
       "      <td>[智邦, 科技, 股份, 有限公司, 2023年, 第1季, 損益, 總額, 多少]</td>\n",
       "      <td>272</td>\n",
       "      <td>490.0</td>\n",
       "    </tr>\n",
       "    <tr>\n",
       "      <th>72</th>\n",
       "      <td>[442, 497, 932, 204, 561, 92]</td>\n",
       "      <td>光寶科在2022年第1季的合併財務報告是何時經董事會通過並發布的？</td>\n",
       "      <td>finance</td>\n",
       "      <td>[光寶科, 2022年, 第1季, 合併, 財務, 報告, 何時, 董事會, 通過, 發布]</td>\n",
       "      <td>497</td>\n",
       "      <td>204.0</td>\n",
       "    </tr>\n",
       "    <tr>\n",
       "      <th>78</th>\n",
       "      <td>[410, 642, 919, 960, 578, 796, 119]</td>\n",
       "      <td>智邦科技股份有限公司在2023年第三季的綜合損益表中，顯示的稅前淨利金額是多少？</td>\n",
       "      <td>finance</td>\n",
       "      <td>[智邦, 科技, 股份, 有限公司, 2023年, 第三季, 損益表, 顯示, 淨利, 金額...</td>\n",
       "      <td>960</td>\n",
       "      <td>119.0</td>\n",
       "    </tr>\n",
       "    <tr>\n",
       "      <th>86</th>\n",
       "      <td>[658, 813, 897, 757, 525, 189]</td>\n",
       "      <td>瑞昱在2023年第3季有關涉於哪些專利訴訟，並且這些案件目前進展如何？</td>\n",
       "      <td>finance</td>\n",
       "      <td>[瑞昱, 2023年, 第3季, 有關, 涉於, 哪些, 專利, 訴訟, 這些, 案件, 目...</td>\n",
       "      <td>525</td>\n",
       "      <td>189.0</td>\n",
       "    </tr>\n",
       "    <tr>\n",
       "      <th>90</th>\n",
       "      <td>[429, 761, 712, 146, 564, 161, 308, 702, 710]</td>\n",
       "      <td>和泰車在2023年第一季度的基本每股盈餘是多少？</td>\n",
       "      <td>finance</td>\n",
       "      <td>[和泰車, 2023年, 第一, 季度, 盈餘, 多少]</td>\n",
       "      <td>761</td>\n",
       "      <td>710.0</td>\n",
       "    </tr>\n",
       "    <tr>\n",
       "      <th>94</th>\n",
       "      <td>[456, 350, 481, 699, 695, 291]</td>\n",
       "      <td>智邦公司在2022年第3季的合併財務報告中，110年度的股東現金股利的金額是多少？</td>\n",
       "      <td>finance</td>\n",
       "      <td>[智邦, 公司, 2022年, 第3季, 合併, 財務, 報告, 110年度, 股東, 現金...</td>\n",
       "      <td>695</td>\n",
       "      <td>699.0</td>\n",
       "    </tr>\n",
       "    <tr>\n",
       "      <th>97</th>\n",
       "      <td>[205, 579, 789, 444, 276, 282, 64, 279]</td>\n",
       "      <td>在國巨2023年第1季合併綜合損益表中，本期綜合損益總額為多少？</td>\n",
       "      <td>finance</td>\n",
       "      <td>[國巨, 2023年, 第1, 合併, 損益表, 損益, 總額, 多少]</td>\n",
       "      <td>444</td>\n",
       "      <td>282.0</td>\n",
       "    </tr>\n",
       "    <tr>\n",
       "      <th>98</th>\n",
       "      <td>[58, 566, 439, 849, 692, 219, 835]</td>\n",
       "      <td>台達電2023年第三季度在營業活動中支付的所得稅總額是多少？</td>\n",
       "      <td>finance</td>\n",
       "      <td>[台達電, 2023年, 第三, 季度, 營業, 活動, 支付, 所得稅, 總額, 多少]</td>\n",
       "      <td>439</td>\n",
       "      <td>692.0</td>\n",
       "    </tr>\n",
       "    <tr>\n",
       "      <th>99</th>\n",
       "      <td>[283, 483, 693, 895, 631, 372]</td>\n",
       "      <td>中鋼在2022年第3季的綜合損益總額是多少？</td>\n",
       "      <td>finance</td>\n",
       "      <td>[中鋼, 2022年, 第3季, 損益, 總額, 多少]</td>\n",
       "      <td>483</td>\n",
       "      <td>372.0</td>\n",
       "    </tr>\n",
       "  </tbody>\n",
       "</table>\n",
       "</div>"
      ],
      "text/plain": [
       "                                            source  \\\n",
       "qid                                                  \n",
       "51                        [61, 656, 899, 653, 162]   \n",
       "59             [639, 148, 771, 521, 264, 632, 190]   \n",
       "62                   [89, 721, 971, 56, 1024, 591]   \n",
       "66                  [545, 182, 400, 396, 978, 192]   \n",
       "68          [26, 341, 78, 1011, 942, 37, 427, 955]   \n",
       "70                       [298, 272, 147, 490, 495]   \n",
       "72                   [442, 497, 932, 204, 561, 92]   \n",
       "78             [410, 642, 919, 960, 578, 796, 119]   \n",
       "86                  [658, 813, 897, 757, 525, 189]   \n",
       "90   [429, 761, 712, 146, 564, 161, 308, 702, 710]   \n",
       "94                  [456, 350, 481, 699, 695, 291]   \n",
       "97         [205, 579, 789, 444, 276, 282, 64, 279]   \n",
       "98              [58, 566, 439, 849, 692, 219, 835]   \n",
       "99                  [283, 483, 693, 895, 631, 372]   \n",
       "\n",
       "                                                 query category  \\\n",
       "qid                                                               \n",
       "51                                聯電在2023年第1季的營業利益是多少？  finance   \n",
       "59                          台化在2023年第1季的本期其他綜合損益總額是多少？  finance   \n",
       "62                           2022年第3季聯發科的現金及約當現金金額是多少？  finance   \n",
       "66   瑞昱在2022年第1季的財報中提到，BANDSPEED, LLC於哪一地區法院控告瑞昱產品侵...  finance   \n",
       "68                  請問光寶科在2023年第3季的合併資產負債表中，總資產的金額是多少？  finance   \n",
       "70                       智邦科技股份有限公司2023年第1季的綜合損益總額是多少？  finance   \n",
       "72                   光寶科在2022年第1季的合併財務報告是何時經董事會通過並發布的？  finance   \n",
       "78            智邦科技股份有限公司在2023年第三季的綜合損益表中，顯示的稅前淨利金額是多少？  finance   \n",
       "86                 瑞昱在2023年第3季有關涉於哪些專利訴訟，並且這些案件目前進展如何？  finance   \n",
       "90                            和泰車在2023年第一季度的基本每股盈餘是多少？  finance   \n",
       "94           智邦公司在2022年第3季的合併財務報告中，110年度的股東現金股利的金額是多少？  finance   \n",
       "97                    在國巨2023年第1季合併綜合損益表中，本期綜合損益總額為多少？  finance   \n",
       "98                      台達電2023年第三季度在營業活動中支付的所得稅總額是多少？  finance   \n",
       "99                              中鋼在2022年第3季的綜合損益總額是多少？  finance   \n",
       "\n",
       "                                              clean_ws  retrieve  \\\n",
       "qid                                                                \n",
       "51                        [聯電, 2023年, 第1季, 營業, 利益, 多少]        61   \n",
       "59                    [台化, 2023年, 第1季, 其他, 損益, 總額, 多少]       639   \n",
       "62                   [2022年, 第3季, 聯發科, 現金, 現金, 金額, 多少]        56   \n",
       "66   [瑞昱, 2022年, 第1季, 財報, 提到, 地區, 法院, 控告, 瑞昱, 產品, 侵...       396   \n",
       "68     [請問, 光寶科, 2023年, 第3季, 合併, 資產, 負債表, 總資產, 金額, 多少]        37   \n",
       "70          [智邦, 科技, 股份, 有限公司, 2023年, 第1季, 損益, 總額, 多少]       272   \n",
       "72      [光寶科, 2022年, 第1季, 合併, 財務, 報告, 何時, 董事會, 通過, 發布]       497   \n",
       "78   [智邦, 科技, 股份, 有限公司, 2023年, 第三季, 損益表, 顯示, 淨利, 金額...       960   \n",
       "86   [瑞昱, 2023年, 第3季, 有關, 涉於, 哪些, 專利, 訴訟, 這些, 案件, 目...       525   \n",
       "90                        [和泰車, 2023年, 第一, 季度, 盈餘, 多少]       761   \n",
       "94   [智邦, 公司, 2022年, 第3季, 合併, 財務, 報告, 110年度, 股東, 現金...       695   \n",
       "97                [國巨, 2023年, 第1, 合併, 損益表, 損益, 總額, 多少]       444   \n",
       "98       [台達電, 2023年, 第三, 季度, 營業, 活動, 支付, 所得稅, 總額, 多少]       439   \n",
       "99                        [中鋼, 2022年, 第3季, 損益, 總額, 多少]       483   \n",
       "\n",
       "     true retrieve  \n",
       "qid                 \n",
       "51           162.0  \n",
       "59           632.0  \n",
       "62           591.0  \n",
       "66           192.0  \n",
       "68           942.0  \n",
       "70           490.0  \n",
       "72           204.0  \n",
       "78           119.0  \n",
       "86           189.0  \n",
       "90           710.0  \n",
       "94           699.0  \n",
       "97           282.0  \n",
       "98           692.0  \n",
       "99           372.0  "
      ]
     },
     "execution_count": 9,
     "metadata": {},
     "output_type": "execute_result"
    }
   ],
   "source": [
    "question[~(question['retrieve'] == answer['retrieve'])]"
   ]
  },
  {
   "cell_type": "code",
   "execution_count": null,
   "id": "88582a0e725150e6",
   "metadata": {
    "ExecuteTime": {
     "end_time": "2024-11-08T19:28:32.341373Z",
     "start_time": "2024-11-08T19:28:32.339647Z"
    }
   },
   "outputs": [],
   "source": []
  }
 ],
 "metadata": {
  "kernelspec": {
   "display_name": ".venv",
   "language": "python",
   "name": "python3"
  },
  "language_info": {
   "codemirror_mode": {
    "name": "ipython",
    "version": 3
   },
   "file_extension": ".py",
   "mimetype": "text/x-python",
   "name": "python",
   "nbconvert_exporter": "python",
   "pygments_lexer": "ipython3",
   "version": "3.11.10"
  }
 },
 "nbformat": 4,
 "nbformat_minor": 5
}
