{
 "cells": [
  {
   "cell_type": "code",
   "execution_count": 1,
   "id": "2db0cb5de396ac11",
   "metadata": {
    "ExecuteTime": {
     "end_time": "2024-11-08T21:38:20.232295Z",
     "start_time": "2024-11-08T21:38:18.741421Z"
    }
   },
   "outputs": [
    {
     "name": "stdout",
     "output_type": "stream",
     "text": [
      "INFO: Pandarallel will run on 20 workers.\n",
      "INFO: Pandarallel will use Memory file system to transfer data between the main process and workers.\n"
     ]
    }
   ],
   "source": [
    "import re\n",
    "import json\n",
    "import numpy as np\n",
    "import pandas as pd\n",
    "from tqdm import tqdm\n",
    "from rank_bm25 import BM25Okapi\n",
    "from ckip_transformers.nlp import CkipWordSegmenter, CkipPosTagger, CkipNerChunker\n",
    "from langchain.text_splitter import RecursiveCharacterTextSplitter\n",
    "import pytesseract\n",
    "from multiprocessing import Pool\n",
    "from pathlib import Path\n",
    "from PIL import Image\n",
    "import pdfplumber\n",
    "from openai import OpenAI\n",
    "from pandarallel import pandarallel\n",
    "\n",
    "tqdm.pandas(desc=\"progress\")\n",
    "pandarallel.initialize(progress_bar=True, nb_workers=20)"
   ]
  },
  {
   "cell_type": "code",
   "execution_count": 2,
   "id": "abcc746f",
   "metadata": {},
   "outputs": [],
   "source": [
    "import os\n",
    "import base64\n",
    "import pytesseract\n",
    "from pdf2image import convert_from_path\n",
    "from bs4 import BeautifulSoup\n",
    "\n",
    "# Function to convert PDF to images\n",
    "def pdf_to_images(pdf_path):\n",
    "    return convert_from_path(pdf_path, fmt='tiff')\n",
    "\n",
    "# Function to convert image to hOCR using pytesseract\n",
    "def image_to_hocr(image):\n",
    "    return pytesseract.image_to_pdf_or_hocr(image, extension='hocr', lang='chi_tra')\n",
    "\n",
    "# Function to convert hOCR to markdown\n",
    "def hocr_to_markdown(hocr):\n",
    "    soup = BeautifulSoup(hocr, 'html.parser')\n",
    "    markdown_text = \"\"\n",
    "\n",
    "    for line in soup.find_all('span', class_='ocr_line'):\n",
    "        line_text = \" \".join([word.get_text() for word in line.find_all('span', class_='ocrx_word')])\n",
    "        markdown_text += f\"{line_text}\"\n",
    "\n",
    "    return markdown_text\n",
    "\n",
    "# Main function to convert PDF to Markdown\n",
    "def pdf_to_markdown(pdf_path):\n",
    "    images = pdf_to_images(pdf_path)\n",
    "    markdown_text = \"\"\n",
    "\n",
    "    for image in images:\n",
    "        hocr = image_to_hocr(image)\n",
    "        markdown_text += hocr_to_markdown(hocr)\n",
    "\n",
    "    return markdown_text.replace(' ', '')"
   ]
  },
  {
   "cell_type": "code",
   "execution_count": 3,
   "id": "fbb5bae95600a770",
   "metadata": {
    "ExecuteTime": {
     "end_time": "2024-11-08T21:38:20.243389Z",
     "start_time": "2024-11-08T21:38:20.237240Z"
    }
   },
   "outputs": [],
   "source": [
    "class DataLoader:\n",
    "    def __init__(self, question_path, answer_path, source_path):\n",
    "        self.question_path = question_path\n",
    "        self.answer_path = answer_path\n",
    "        self.source_path = source_path\n",
    "\n",
    "        self.stock_dict = pd.read_csv(\n",
    "            '/home/xunhaoz/PycharmProjects/RAGAndLLMInFinance/finance/stock_table.csv')[[\n",
    "            '公司簡稱', '公司名稱']].set_index('公司簡稱').to_dict()['公司名稱']\n",
    "\n",
    "\n",
    "    def convert_company_name_to_full(self, query_text):\n",
    "        for key, value in self.stock_dict.items():\n",
    "            if key in query_text and value not in query_text:\n",
    "                query_text = query_text.replace(key, value)\n",
    "        return query_text\n",
    "\n",
    "    def convert_season_to_month(self, query_text):\n",
    "        season_dict = {\n",
    "            '第1季': '5月', '第2季': '8月', '第3季': '11月', '第4季': '3月',\n",
    "            '第一季': '5月', '第二季': '8月', '第三季': '11月', '第四季': '3月'}\n",
    "        \n",
    "        for key, value in season_dict.items():\n",
    "            key_pos = query_text.find(key)\n",
    "            if key_pos != -1:\n",
    "                query_text = query_text[:key_pos] + value + query_text[key_pos:]    \n",
    "        return query_text\n",
    "\n",
    "    def convert_AD_to_ROC_year(self, query_text):\n",
    "        year_pattern = r'(\\d{4})年'\n",
    "        \n",
    "        year_match = re.search(year_pattern, query_text)\n",
    "        \n",
    "        try:\n",
    "            if year_match:\n",
    "                year = year_match.group(1)\n",
    "                year_pos = query_text.find(year)                \n",
    "                roc_year = str(int(year) - 1911)\n",
    "                query_text = query_text[:year_pos] + f\"{roc_year}年\" + query_text[year_pos:]\n",
    "        except Exception as e:\n",
    "            pass\n",
    "\n",
    "        return query_text\n",
    "\n",
    "    def get_question(self):\n",
    "        pass\n",
    "\n",
    "    def get_answer(self):\n",
    "        pass\n",
    "\n",
    "    def get_source(self):\n",
    "        pass\n",
    "\n",
    "\n",
    "class FinanceDataLoader(DataLoader):\n",
    "    def __init__(self, question_path, answer_path, source_path, chunk_size, chunk_overlap):\n",
    "        super().__init__(question_path, answer_path, source_path)\n",
    "        self.text_splitter = RecursiveCharacterTextSplitter(\n",
    "            chunk_size=chunk_size,\n",
    "            chunk_overlap=chunk_overlap,\n",
    "        )\n",
    "\n",
    "    def get_question(self):\n",
    "        questions_example = json.load(open(self.question_path))['questions']\n",
    "        questions_example = pd.DataFrame(questions_example).set_index('qid')\n",
    "        questions_example = questions_example[questions_example['category'] == 'finance']\n",
    "\n",
    "        # questions_example['query'] = questions_example['query'].apply(self.convert_company_name_to_full) # 0.72\n",
    "        # questions_example['query'] = questions_example['query'].apply(self.convert_season_to_month) # 0.66\n",
    "        # questions_example['query'] = questions_example['query'].apply(self.convert_AD_to_ROC_year) # 0.66\n",
    "\n",
    "        return questions_example\n",
    "\n",
    "    def get_answer(self):\n",
    "        ground_truths_example = json.load(open(self.answer_path))['ground_truths']\n",
    "        ground_truths_example = pd.DataFrame(ground_truths_example).set_index('qid')\n",
    "        ground_truths_example = ground_truths_example[ground_truths_example['category'] == 'finance']\n",
    "        return ground_truths_example\n",
    "\n",
    "    def process_pdf_by_pdfplumber(self, pdf_path):\n",
    "        pdf_text = ''\n",
    "        with pdfplumber.open(pdf_path) as pdf:\n",
    "            for page in pdf.pages:\n",
    "                pdf_text += ''.join(page.extract_text())\n",
    "               \n",
    "        pdf_text = pdf_text.replace(' ', '')\n",
    "        \n",
    "        if pdf_text == '':\n",
    "            pdf_text = pdf_to_markdown(pdf_path=pdf_path)\n",
    "        \n",
    "        return self.text_splitter.split_text(pdf_text) \n",
    "\n",
    "    def get_source(self):\n",
    "        pdf_files = pd.DataFrame({'path': Path(self.source_path).glob('*.pdf')})\n",
    "        pdf_files['pid'] = pdf_files['path'].apply(lambda x: int(x.stem))\n",
    "        pdf_files['content'] = pdf_files['path'].parallel_apply(self.process_pdf_by_pdfplumber)\n",
    "        pdf_files = pdf_files.explode('content')\n",
    "\n",
    "        return pdf_files[['pid', 'content']].set_index('pid')"
   ]
  },
  {
   "cell_type": "code",
   "execution_count": 4,
   "id": "3c5337cae2129c63",
   "metadata": {
    "ExecuteTime": {
     "end_time": "2024-11-08T21:39:01.375451Z",
     "start_time": "2024-11-08T21:38:20.319021Z"
    }
   },
   "outputs": [
    {
     "data": {
      "application/vnd.jupyter.widget-view+json": {
       "model_id": "428cb0d406f344e183328d8ce5dc6c63",
       "version_major": 2,
       "version_minor": 0
      },
      "text/plain": [
       "VBox(children=(HBox(children=(IntProgress(value=0, description='0.00%', max=52), Label(value='0 / 52'))), HBox…"
      ]
     },
     "metadata": {},
     "output_type": "display_data"
    }
   ],
   "source": [
    "finance_dataLoader = FinanceDataLoader(\n",
    "    question_path='/home/xunhaoz/PycharmProjects/RAGAndLLMInFinance/questions_preliminary.json',\n",
    "    answer_path='../contest_dataset/contest_dataset/dataset/preliminary/ground_truths_example.json',\n",
    "    source_path='../contest_dataset/contest_dataset/reference/finance',\n",
    "    chunk_size=512,\n",
    "    chunk_overlap=16\n",
    ")\n",
    "\n",
    "answer = finance_dataLoader.get_answer()\n",
    "question = finance_dataLoader.get_question()\n",
    "source = finance_dataLoader.get_source()"
   ]
  },
  {
   "cell_type": "code",
   "execution_count": 5,
   "id": "495c147c9d5bff40",
   "metadata": {
    "ExecuteTime": {
     "end_time": "2024-11-08T21:39:01.384934Z",
     "start_time": "2024-11-08T21:39:01.382108Z"
    }
   },
   "outputs": [],
   "source": [
    "class DataPreprocessor:\n",
    "    def __init__(self, model=\"albert-tiny\"):\n",
    "        self.ws_driver = CkipWordSegmenter(model=model, device=0)\n",
    "        self.pos_driver = CkipPosTagger(model=model, device=0)\n",
    "        self.ner_driver = CkipNerChunker(model=model, device=0)\n",
    "\n",
    "    def preprocess(self, series):\n",
    "        data_frame = series.to_frame()\n",
    "\n",
    "        data_frame['content_ws'] = self.ws_driver(data_frame[series.name])\n",
    "        data_frame['content_pos'] = self.pos_driver(data_frame['content_ws'])\n",
    "        data_frame['content_ner'] = [\n",
    "            [ner.word for ner in ner_list if len(ner.word) > 1] for ner_list in self.ner_driver(series)]\n",
    "\n",
    "        clean_ws_list = []\n",
    "        for content_ws, content_pos, content_ner in zip(\n",
    "                data_frame['content_ws'], data_frame['content_pos'], data_frame['content_ner']):\n",
    "            clean_ws = []\n",
    "            for ws, pos in zip(content_ws, content_pos):\n",
    "                if pos.startswith('V') or pos.startswith('N') or ws in content_ner:\n",
    "                    if len(ws) > 1:\n",
    "                        clean_ws.append(ws)\n",
    "            clean_ws_list.append(clean_ws)\n",
    "        data_frame['clean_ws'] = clean_ws_list\n",
    "\n",
    "        return data_frame['clean_ws']"
   ]
  },
  {
   "cell_type": "code",
   "execution_count": 6,
   "id": "eca48639a114f3d2",
   "metadata": {
    "ExecuteTime": {
     "end_time": "2024-11-08T22:07:52.914005Z",
     "start_time": "2024-11-08T21:39:01.422718Z"
    }
   },
   "outputs": [
    {
     "name": "stderr",
     "output_type": "stream",
     "text": [
      "Tokenization: 100%|██████████| 9253/9253 [00:03<00:00, 2993.38it/s]\n",
      "Inference: 100%|██████████| 41/41 [00:24<00:00,  1.70it/s]\n",
      "Tokenization: 100%|██████████| 9253/9253 [00:01<00:00, 5179.75it/s]\n",
      "Inference: 100%|██████████| 234/234 [02:20<00:00,  1.67it/s]\n",
      "Tokenization: 100%|██████████| 9253/9253 [00:03<00:00, 2984.08it/s]\n",
      "Inference: 100%|██████████| 41/41 [00:24<00:00,  1.66it/s]\n",
      "Tokenization: 100%|██████████| 300/300 [00:00<00:00, 49799.79it/s]\n",
      "Inference: 100%|██████████| 2/2 [00:00<00:00, 21.34it/s]\n",
      "Tokenization: 100%|██████████| 300/300 [00:00<00:00, 62832.88it/s]\n",
      "Inference: 100%|██████████| 3/3 [00:00<00:00, 20.48it/s]\n",
      "Tokenization: 100%|██████████| 300/300 [00:00<00:00, 48941.70it/s]\n",
      "Inference: 100%|██████████| 2/2 [00:00<00:00, 21.34it/s]\n"
     ]
    }
   ],
   "source": [
    "data_preprocessor = DataPreprocessor(\"albert-tiny\")\n",
    "source['clean_ws'] = data_preprocessor.preprocess(source['content'])\n",
    "question['clean_ws'] = data_preprocessor.preprocess(question['query'])"
   ]
  },
  {
   "cell_type": "code",
   "execution_count": 7,
   "id": "89b74923f459be4b",
   "metadata": {
    "ExecuteTime": {
     "end_time": "2024-11-08T22:07:52.959133Z",
     "start_time": "2024-11-08T22:07:52.956127Z"
    }
   },
   "outputs": [],
   "source": [
    "class Retrieval:\n",
    "    \"\"\"\n",
    "    Random retrieval class. Top 1 retrieval is 0.02 acc. \n",
    "    \"\"\"\n",
    "\n",
    "    def retrieval(self, question, source):\n",
    "        question['retrieve'] = question['source'].apply(lambda x: np.random.choice(x))\n",
    "        return question\n",
    "\n",
    "\n",
    "class BM25Retrieval(Retrieval):\n",
    "    def __init__(self):\n",
    "        pass\n",
    "\n",
    "    def retrieval(self, question, source):\n",
    "        retrieve_list = []\n",
    "        for record in question.to_dict(orient='records'):\n",
    "            candidate_df = source.loc[record['source']].copy()\n",
    "            bm25 = BM25Okapi(candidate_df['clean_ws'])\n",
    "            candidate_df['score'] = bm25.get_scores(record['clean_ws'])\n",
    "            retrieve_list.append(candidate_df.sort_values('score', ascending=False).index[0])\n",
    "\n",
    "        question['retrieve'] = retrieve_list\n",
    "        return question"
   ]
  },
  {
   "cell_type": "code",
   "execution_count": 8,
   "id": "443db8617eb81bd",
   "metadata": {
    "ExecuteTime": {
     "end_time": "2024-11-08T22:07:53.073921Z",
     "start_time": "2024-11-08T22:07:53.002526Z"
    }
   },
   "outputs": [],
   "source": [
    "retrieval = BM25Retrieval()\n",
    "question = retrieval.retrieval(question, source)\n"
   ]
  },
  {
   "cell_type": "code",
   "execution_count": 9,
   "id": "c1a3cbf1",
   "metadata": {},
   "outputs": [],
   "source": [
    "question[['retrieve']].to_csv('../finance_512.csv')"
   ]
  },
  {
   "cell_type": "code",
   "execution_count": 10,
   "id": "c359c777189f35d9",
   "metadata": {
    "ExecuteTime": {
     "end_time": "2024-11-08T22:07:53.097935Z",
     "start_time": "2024-11-08T22:07:53.095603Z"
    }
   },
   "outputs": [
    {
     "ename": "ValueError",
     "evalue": "Can only compare identically-labeled Series objects",
     "output_type": "error",
     "traceback": [
      "\u001B[0;31m---------------------------------------------------------------------------\u001B[0m",
      "\u001B[0;31mValueError\u001B[0m                                Traceback (most recent call last)",
      "Cell \u001B[0;32mIn[10], line 1\u001B[0m\n\u001B[0;32m----> 1\u001B[0m (\u001B[43mquestion\u001B[49m\u001B[43m[\u001B[49m\u001B[38;5;124;43m'\u001B[39;49m\u001B[38;5;124;43mretrieve\u001B[39;49m\u001B[38;5;124;43m'\u001B[39;49m\u001B[43m]\u001B[49m\u001B[43m \u001B[49m\u001B[38;5;241;43m==\u001B[39;49m\u001B[43m \u001B[49m\u001B[43manswer\u001B[49m\u001B[43m[\u001B[49m\u001B[38;5;124;43m'\u001B[39;49m\u001B[38;5;124;43mretrieve\u001B[39;49m\u001B[38;5;124;43m'\u001B[39;49m\u001B[43m]\u001B[49m)\u001B[38;5;241m.\u001B[39mmean()\n",
      "File \u001B[0;32m~/PycharmProjects/RAGAndLLMInFinance/.venv/lib/python3.11/site-packages/pandas/core/ops/common.py:76\u001B[0m, in \u001B[0;36m_unpack_zerodim_and_defer.<locals>.new_method\u001B[0;34m(self, other)\u001B[0m\n\u001B[1;32m     72\u001B[0m             \u001B[38;5;28;01mreturn\u001B[39;00m \u001B[38;5;28mNotImplemented\u001B[39m\n\u001B[1;32m     74\u001B[0m other \u001B[38;5;241m=\u001B[39m item_from_zerodim(other)\n\u001B[0;32m---> 76\u001B[0m \u001B[38;5;28;01mreturn\u001B[39;00m \u001B[43mmethod\u001B[49m\u001B[43m(\u001B[49m\u001B[38;5;28;43mself\u001B[39;49m\u001B[43m,\u001B[49m\u001B[43m \u001B[49m\u001B[43mother\u001B[49m\u001B[43m)\u001B[49m\n",
      "File \u001B[0;32m~/PycharmProjects/RAGAndLLMInFinance/.venv/lib/python3.11/site-packages/pandas/core/arraylike.py:40\u001B[0m, in \u001B[0;36mOpsMixin.__eq__\u001B[0;34m(self, other)\u001B[0m\n\u001B[1;32m     38\u001B[0m \u001B[38;5;129m@unpack_zerodim_and_defer\u001B[39m(\u001B[38;5;124m\"\u001B[39m\u001B[38;5;124m__eq__\u001B[39m\u001B[38;5;124m\"\u001B[39m)\n\u001B[1;32m     39\u001B[0m \u001B[38;5;28;01mdef\u001B[39;00m \u001B[38;5;21m__eq__\u001B[39m(\u001B[38;5;28mself\u001B[39m, other):\n\u001B[0;32m---> 40\u001B[0m     \u001B[38;5;28;01mreturn\u001B[39;00m \u001B[38;5;28;43mself\u001B[39;49m\u001B[38;5;241;43m.\u001B[39;49m\u001B[43m_cmp_method\u001B[49m\u001B[43m(\u001B[49m\u001B[43mother\u001B[49m\u001B[43m,\u001B[49m\u001B[43m \u001B[49m\u001B[43moperator\u001B[49m\u001B[38;5;241;43m.\u001B[39;49m\u001B[43meq\u001B[49m\u001B[43m)\u001B[49m\n",
      "File \u001B[0;32m~/PycharmProjects/RAGAndLLMInFinance/.venv/lib/python3.11/site-packages/pandas/core/series.py:6114\u001B[0m, in \u001B[0;36mSeries._cmp_method\u001B[0;34m(self, other, op)\u001B[0m\n\u001B[1;32m   6111\u001B[0m res_name \u001B[38;5;241m=\u001B[39m ops\u001B[38;5;241m.\u001B[39mget_op_result_name(\u001B[38;5;28mself\u001B[39m, other)\n\u001B[1;32m   6113\u001B[0m \u001B[38;5;28;01mif\u001B[39;00m \u001B[38;5;28misinstance\u001B[39m(other, Series) \u001B[38;5;129;01mand\u001B[39;00m \u001B[38;5;129;01mnot\u001B[39;00m \u001B[38;5;28mself\u001B[39m\u001B[38;5;241m.\u001B[39m_indexed_same(other):\n\u001B[0;32m-> 6114\u001B[0m     \u001B[38;5;28;01mraise\u001B[39;00m \u001B[38;5;167;01mValueError\u001B[39;00m(\u001B[38;5;124m\"\u001B[39m\u001B[38;5;124mCan only compare identically-labeled Series objects\u001B[39m\u001B[38;5;124m\"\u001B[39m)\n\u001B[1;32m   6116\u001B[0m lvalues \u001B[38;5;241m=\u001B[39m \u001B[38;5;28mself\u001B[39m\u001B[38;5;241m.\u001B[39m_values\n\u001B[1;32m   6117\u001B[0m rvalues \u001B[38;5;241m=\u001B[39m extract_array(other, extract_numpy\u001B[38;5;241m=\u001B[39m\u001B[38;5;28;01mTrue\u001B[39;00m, extract_range\u001B[38;5;241m=\u001B[39m\u001B[38;5;28;01mTrue\u001B[39;00m)\n",
      "\u001B[0;31mValueError\u001B[0m: Can only compare identically-labeled Series objects"
     ]
    }
   ],
   "source": [
    "(question['retrieve'] == answer['retrieve']).mean()"
   ]
  },
  {
   "cell_type": "code",
   "execution_count": null,
   "id": "2202cc3fec707ea1",
   "metadata": {
    "ExecuteTime": {
     "end_time": "2024-11-08T22:07:53.134260Z",
     "start_time": "2024-11-08T22:07:53.131792Z"
    }
   },
   "outputs": [
    {
     "data": {
      "text/plain": [
       "'\\n256: 0.\\n512: 0.72\\n1024: 0.72\\n1536: 0.72 \\n1792: 0.74 \\n2048: 0.78\\n'"
      ]
     },
     "execution_count": 11,
     "metadata": {},
     "output_type": "execute_result"
    }
   ],
   "source": [
    "\"\"\"\n",
    "256: 0.78\n",
    "512: 0.72\n",
    "1024: 0.72\n",
    "1536: 0.72 \n",
    "1792: 0.74 \n",
    "2048: 0.78\n",
    "\"\"\""
   ]
  }
 ],
 "metadata": {
  "kernelspec": {
   "display_name": ".venv",
   "language": "python",
   "name": "python3"
  },
  "language_info": {
   "codemirror_mode": {
    "name": "ipython",
    "version": 3
   },
   "file_extension": ".py",
   "mimetype": "text/x-python",
   "name": "python",
   "nbconvert_exporter": "python",
   "pygments_lexer": "ipython3",
   "version": "3.11.10"
  }
 },
 "nbformat": 4,
 "nbformat_minor": 5
}
