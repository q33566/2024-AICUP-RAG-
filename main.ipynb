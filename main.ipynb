{
 "cells": [
  {
   "cell_type": "code",
   "id": "initial_id",
   "metadata": {
    "collapsed": true,
    "ExecuteTime": {
     "end_time": "2024-10-02T08:04:59.255541Z",
     "start_time": "2024-10-02T08:04:58.474845Z"
    }
   },
   "source": [
    "import json\n",
    "import pandas as pd\n",
    "from package.Retriver import *\n",
    "from tqdm import tqdm"
   ],
   "outputs": [],
   "execution_count": 1
  },
  {
   "metadata": {
    "ExecuteTime": {
     "end_time": "2024-10-02T08:04:59.263Z",
     "start_time": "2024-10-02T08:04:59.259644Z"
    }
   },
   "cell_type": "code",
   "source": [
    "with open('contest_dataset/contest_dataset/dataset/preliminary/questions_example.json') as questions_example:\n",
    "    questions_example = pd.DataFrame(json.load(questions_example)['questions'])\n",
    "\n",
    "with open('contest_dataset/contest_dataset/dataset/preliminary/ground_truths_example.json') as ground_truths_example:\n",
    "    ground_truths_example = pd.DataFrame(json.load(ground_truths_example)['ground_truths'])"
   ],
   "id": "39439b049c5c9ea2",
   "outputs": [],
   "execution_count": 2
  },
  {
   "metadata": {
    "ExecuteTime": {
     "end_time": "2024-10-02T08:04:59.345476Z",
     "start_time": "2024-10-02T08:04:59.343924Z"
    }
   },
   "cell_type": "code",
   "source": "retriver = RandomRetriver()",
   "id": "356c4baffafcf2ba",
   "outputs": [],
   "execution_count": 3
  },
  {
   "metadata": {
    "ExecuteTime": {
     "end_time": "2024-10-02T08:04:59.398966Z",
     "start_time": "2024-10-02T08:04:59.392154Z"
    }
   },
   "cell_type": "code",
   "source": [
    "answers = []\n",
    "for question in tqdm(questions_example.to_dict(orient='records'), total=len(questions_example)):\n",
    "    answer = retriver.retrivel(**question)\n",
    "    answers.append(answer)\n",
    "answers_example = pd.DataFrame(answers)"
   ],
   "id": "3c13fe531f55bfab",
   "outputs": [
    {
     "name": "stderr",
     "output_type": "stream",
     "text": [
      "100%|██████████| 150/150 [00:00<00:00, 368568.01it/s]\n"
     ]
    }
   ],
   "execution_count": 4
  },
  {
   "metadata": {
    "ExecuteTime": {
     "end_time": "2024-10-02T08:05:00.631775Z",
     "start_time": "2024-10-02T08:05:00.627364Z"
    }
   },
   "cell_type": "code",
   "source": [
    "ground_truths_example['correction'] = answers_example['retrieve'] == ground_truths_example['retrieve']\n",
    "ground_truths_example['correction'].mean()"
   ],
   "id": "7c9de28eba7fde47",
   "outputs": [
    {
     "data": {
      "text/plain": [
       "0.09333333333333334"
      ]
     },
     "execution_count": 5,
     "metadata": {},
     "output_type": "execute_result"
    }
   ],
   "execution_count": 5
  },
  {
   "metadata": {},
   "cell_type": "code",
   "outputs": [],
   "execution_count": null,
   "source": "",
   "id": "8b622bd28a6fdfd5"
  }
 ],
 "metadata": {
  "kernelspec": {
   "display_name": "Python 3",
   "language": "python",
   "name": "python3"
  },
  "language_info": {
   "codemirror_mode": {
    "name": "ipython",
    "version": 2
   },
   "file_extension": ".py",
   "mimetype": "text/x-python",
   "name": "python",
   "nbconvert_exporter": "python",
   "pygments_lexer": "ipython2",
   "version": "2.7.6"
  }
 },
 "nbformat": 4,
 "nbformat_minor": 5
}
